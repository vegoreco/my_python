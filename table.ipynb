{
 "cells": [
  {
   "cell_type": "code",
   "execution_count": 19,
   "metadata": {},
   "outputs": [
    {
     "name": "stdin",
     "output_type": "stream",
     "text": [
      "Введите атомный номер химического элемента: 80\n"
     ]
    },
    {
     "name": "stdout",
     "output_type": "stream",
     "text": [
      "Химический элемент, который имеет атомный номер 80 это \u001b[1mHg\n"
     ]
    }
   ],
   "source": [
    "table = int(input(\"Введите атомный номер химического элемента:\"))\n",
    "if table == 3:\n",
    "    print(\"Химический элемент, который имеет атомный номер\", table, \"это\", '\\033[1m' + \"Li\")\n",
    "elif table == 25:\n",
    "    print(\"Химический элемент, который имеет атомный номер\", table, \"это\", '\\033[1m' + \"Mn\")\n",
    "elif table == 80:\n",
    "    print(\"Химический элемент, который имеет атомный номер\", table, \"это\", '\\033[1m' + \"Hg\")\n",
    "elif table == 17:\n",
    "    print(\"Химический элемент, который имеет атомный номер\", table, \"это\", '\\033[1m' + \"Cl\")\n",
    "else:\n",
    "    print(\"Наша программа не еще не поддерживает такие химические элементы, следите за обновлениями!\")"
   ]
  },
  {
   "cell_type": "code",
   "execution_count": null,
   "metadata": {},
   "outputs": [],
   "source": []
  }
 ],
 "metadata": {
  "kernelspec": {
   "display_name": "Python 3",
   "language": "python",
   "name": "python3"
  },
  "language_info": {
   "codemirror_mode": {
    "name": "ipython",
    "version": 3
   },
   "file_extension": ".py",
   "mimetype": "text/x-python",
   "name": "python",
   "nbconvert_exporter": "python",
   "pygments_lexer": "ipython3",
   "version": "3.7.4"
  }
 },
 "nbformat": 4,
 "nbformat_minor": 4
}
